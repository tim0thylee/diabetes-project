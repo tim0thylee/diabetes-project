{
 "cells": [
  {
   "cell_type": "code",
   "execution_count": 450,
   "id": "e669bd51",
   "metadata": {},
   "outputs": [],
   "source": [
    "import pandas as pd\n",
    "import sklearn\n",
    "import scipy\n",
    "import numpy as np\n",
    "import seaborn"
   ]
  },
  {
   "cell_type": "markdown",
   "id": "5c3ce23a",
   "metadata": {},
   "source": [
    "## Download the data file"
   ]
  },
  {
   "cell_type": "code",
   "execution_count": 451,
   "id": "23584b7e",
   "metadata": {},
   "outputs": [],
   "source": [
    "data = pd.read_csv(\"diabetes_data.csv\")\n",
    "PROCESSED_ACC = []"
   ]
  },
  {
   "cell_type": "markdown",
   "id": "20b7a476",
   "metadata": {},
   "source": [
    "## Data Preprocessing"
   ]
  },
  {
   "cell_type": "markdown",
   "id": "7899c240",
   "metadata": {},
   "source": [
    "### a) Changing categorial data into binary values"
   ]
  },
  {
   "cell_type": "code",
   "execution_count": 452,
   "id": "9e02e08e",
   "metadata": {},
   "outputs": [],
   "source": [
    "# Change all categorial into binary values\n",
    "# Male will be 0 and Female will be 1 (seems to make the models work better)\n",
    "data = data.replace([\"Yes\", \"No\", \"Male\", \"Female\", \"Positive\", \"Negative\"], [1, 0, 0, 1, 1, 0])"
   ]
  },
  {
   "cell_type": "markdown",
   "id": "459fea58",
   "metadata": {},
   "source": [
    "### b) Change continuous \"Age\" column to binary"
   ]
  },
  {
   "cell_type": "code",
   "execution_count": 453,
   "id": "232ff2be",
   "metadata": {},
   "outputs": [
    {
     "data": {
      "text/html": [
       "<div>\n",
       "<style scoped>\n",
       "    .dataframe tbody tr th:only-of-type {\n",
       "        vertical-align: middle;\n",
       "    }\n",
       "\n",
       "    .dataframe tbody tr th {\n",
       "        vertical-align: top;\n",
       "    }\n",
       "\n",
       "    .dataframe thead th {\n",
       "        text-align: right;\n",
       "    }\n",
       "</style>\n",
       "<table border=\"1\" class=\"dataframe\">\n",
       "  <thead>\n",
       "    <tr style=\"text-align: right;\">\n",
       "      <th></th>\n",
       "      <th>Age</th>\n",
       "      <th>Gender</th>\n",
       "      <th>Polyuria</th>\n",
       "      <th>Polydipsia</th>\n",
       "      <th>sudden weight loss</th>\n",
       "      <th>weakness</th>\n",
       "      <th>Polyphagia</th>\n",
       "      <th>Genital thrush</th>\n",
       "      <th>visual blurring</th>\n",
       "      <th>Itching</th>\n",
       "      <th>Irritability</th>\n",
       "      <th>delayed healing</th>\n",
       "      <th>partial paresis</th>\n",
       "      <th>muscle stiffness</th>\n",
       "      <th>Alopecia</th>\n",
       "      <th>Obesity</th>\n",
       "      <th>class</th>\n",
       "    </tr>\n",
       "  </thead>\n",
       "  <tbody>\n",
       "    <tr>\n",
       "      <th>count</th>\n",
       "      <td>520.000000</td>\n",
       "      <td>520.000000</td>\n",
       "      <td>520.000000</td>\n",
       "      <td>520.000000</td>\n",
       "      <td>520.000000</td>\n",
       "      <td>520.000000</td>\n",
       "      <td>520.000000</td>\n",
       "      <td>520.000000</td>\n",
       "      <td>520.000000</td>\n",
       "      <td>520.000000</td>\n",
       "      <td>520.000000</td>\n",
       "      <td>520.000000</td>\n",
       "      <td>520.000000</td>\n",
       "      <td>520.000000</td>\n",
       "      <td>520.000000</td>\n",
       "      <td>520.000000</td>\n",
       "      <td>520.000000</td>\n",
       "    </tr>\n",
       "    <tr>\n",
       "      <th>mean</th>\n",
       "      <td>48.028846</td>\n",
       "      <td>0.369231</td>\n",
       "      <td>0.496154</td>\n",
       "      <td>0.448077</td>\n",
       "      <td>0.417308</td>\n",
       "      <td>0.586538</td>\n",
       "      <td>0.455769</td>\n",
       "      <td>0.223077</td>\n",
       "      <td>0.448077</td>\n",
       "      <td>0.486538</td>\n",
       "      <td>0.242308</td>\n",
       "      <td>0.459615</td>\n",
       "      <td>0.430769</td>\n",
       "      <td>0.375000</td>\n",
       "      <td>0.344231</td>\n",
       "      <td>0.169231</td>\n",
       "      <td>0.615385</td>\n",
       "    </tr>\n",
       "    <tr>\n",
       "      <th>std</th>\n",
       "      <td>12.151466</td>\n",
       "      <td>0.483061</td>\n",
       "      <td>0.500467</td>\n",
       "      <td>0.497776</td>\n",
       "      <td>0.493589</td>\n",
       "      <td>0.492928</td>\n",
       "      <td>0.498519</td>\n",
       "      <td>0.416710</td>\n",
       "      <td>0.497776</td>\n",
       "      <td>0.500300</td>\n",
       "      <td>0.428892</td>\n",
       "      <td>0.498846</td>\n",
       "      <td>0.495661</td>\n",
       "      <td>0.484589</td>\n",
       "      <td>0.475574</td>\n",
       "      <td>0.375317</td>\n",
       "      <td>0.486973</td>\n",
       "    </tr>\n",
       "    <tr>\n",
       "      <th>min</th>\n",
       "      <td>16.000000</td>\n",
       "      <td>0.000000</td>\n",
       "      <td>0.000000</td>\n",
       "      <td>0.000000</td>\n",
       "      <td>0.000000</td>\n",
       "      <td>0.000000</td>\n",
       "      <td>0.000000</td>\n",
       "      <td>0.000000</td>\n",
       "      <td>0.000000</td>\n",
       "      <td>0.000000</td>\n",
       "      <td>0.000000</td>\n",
       "      <td>0.000000</td>\n",
       "      <td>0.000000</td>\n",
       "      <td>0.000000</td>\n",
       "      <td>0.000000</td>\n",
       "      <td>0.000000</td>\n",
       "      <td>0.000000</td>\n",
       "    </tr>\n",
       "    <tr>\n",
       "      <th>25%</th>\n",
       "      <td>39.000000</td>\n",
       "      <td>0.000000</td>\n",
       "      <td>0.000000</td>\n",
       "      <td>0.000000</td>\n",
       "      <td>0.000000</td>\n",
       "      <td>0.000000</td>\n",
       "      <td>0.000000</td>\n",
       "      <td>0.000000</td>\n",
       "      <td>0.000000</td>\n",
       "      <td>0.000000</td>\n",
       "      <td>0.000000</td>\n",
       "      <td>0.000000</td>\n",
       "      <td>0.000000</td>\n",
       "      <td>0.000000</td>\n",
       "      <td>0.000000</td>\n",
       "      <td>0.000000</td>\n",
       "      <td>0.000000</td>\n",
       "    </tr>\n",
       "    <tr>\n",
       "      <th>50%</th>\n",
       "      <td>47.500000</td>\n",
       "      <td>0.000000</td>\n",
       "      <td>0.000000</td>\n",
       "      <td>0.000000</td>\n",
       "      <td>0.000000</td>\n",
       "      <td>1.000000</td>\n",
       "      <td>0.000000</td>\n",
       "      <td>0.000000</td>\n",
       "      <td>0.000000</td>\n",
       "      <td>0.000000</td>\n",
       "      <td>0.000000</td>\n",
       "      <td>0.000000</td>\n",
       "      <td>0.000000</td>\n",
       "      <td>0.000000</td>\n",
       "      <td>0.000000</td>\n",
       "      <td>0.000000</td>\n",
       "      <td>1.000000</td>\n",
       "    </tr>\n",
       "    <tr>\n",
       "      <th>75%</th>\n",
       "      <td>57.000000</td>\n",
       "      <td>1.000000</td>\n",
       "      <td>1.000000</td>\n",
       "      <td>1.000000</td>\n",
       "      <td>1.000000</td>\n",
       "      <td>1.000000</td>\n",
       "      <td>1.000000</td>\n",
       "      <td>0.000000</td>\n",
       "      <td>1.000000</td>\n",
       "      <td>1.000000</td>\n",
       "      <td>0.000000</td>\n",
       "      <td>1.000000</td>\n",
       "      <td>1.000000</td>\n",
       "      <td>1.000000</td>\n",
       "      <td>1.000000</td>\n",
       "      <td>0.000000</td>\n",
       "      <td>1.000000</td>\n",
       "    </tr>\n",
       "    <tr>\n",
       "      <th>max</th>\n",
       "      <td>90.000000</td>\n",
       "      <td>1.000000</td>\n",
       "      <td>1.000000</td>\n",
       "      <td>1.000000</td>\n",
       "      <td>1.000000</td>\n",
       "      <td>1.000000</td>\n",
       "      <td>1.000000</td>\n",
       "      <td>1.000000</td>\n",
       "      <td>1.000000</td>\n",
       "      <td>1.000000</td>\n",
       "      <td>1.000000</td>\n",
       "      <td>1.000000</td>\n",
       "      <td>1.000000</td>\n",
       "      <td>1.000000</td>\n",
       "      <td>1.000000</td>\n",
       "      <td>1.000000</td>\n",
       "      <td>1.000000</td>\n",
       "    </tr>\n",
       "  </tbody>\n",
       "</table>\n",
       "</div>"
      ],
      "text/plain": [
       "              Age      Gender    Polyuria  Polydipsia  sudden weight loss  \\\n",
       "count  520.000000  520.000000  520.000000  520.000000          520.000000   \n",
       "mean    48.028846    0.369231    0.496154    0.448077            0.417308   \n",
       "std     12.151466    0.483061    0.500467    0.497776            0.493589   \n",
       "min     16.000000    0.000000    0.000000    0.000000            0.000000   \n",
       "25%     39.000000    0.000000    0.000000    0.000000            0.000000   \n",
       "50%     47.500000    0.000000    0.000000    0.000000            0.000000   \n",
       "75%     57.000000    1.000000    1.000000    1.000000            1.000000   \n",
       "max     90.000000    1.000000    1.000000    1.000000            1.000000   \n",
       "\n",
       "         weakness  Polyphagia  Genital thrush  visual blurring     Itching  \\\n",
       "count  520.000000  520.000000      520.000000       520.000000  520.000000   \n",
       "mean     0.586538    0.455769        0.223077         0.448077    0.486538   \n",
       "std      0.492928    0.498519        0.416710         0.497776    0.500300   \n",
       "min      0.000000    0.000000        0.000000         0.000000    0.000000   \n",
       "25%      0.000000    0.000000        0.000000         0.000000    0.000000   \n",
       "50%      1.000000    0.000000        0.000000         0.000000    0.000000   \n",
       "75%      1.000000    1.000000        0.000000         1.000000    1.000000   \n",
       "max      1.000000    1.000000        1.000000         1.000000    1.000000   \n",
       "\n",
       "       Irritability  delayed healing  partial paresis  muscle stiffness  \\\n",
       "count    520.000000       520.000000       520.000000        520.000000   \n",
       "mean       0.242308         0.459615         0.430769          0.375000   \n",
       "std        0.428892         0.498846         0.495661          0.484589   \n",
       "min        0.000000         0.000000         0.000000          0.000000   \n",
       "25%        0.000000         0.000000         0.000000          0.000000   \n",
       "50%        0.000000         0.000000         0.000000          0.000000   \n",
       "75%        0.000000         1.000000         1.000000          1.000000   \n",
       "max        1.000000         1.000000         1.000000          1.000000   \n",
       "\n",
       "         Alopecia     Obesity       class  \n",
       "count  520.000000  520.000000  520.000000  \n",
       "mean     0.344231    0.169231    0.615385  \n",
       "std      0.475574    0.375317    0.486973  \n",
       "min      0.000000    0.000000    0.000000  \n",
       "25%      0.000000    0.000000    0.000000  \n",
       "50%      0.000000    0.000000    1.000000  \n",
       "75%      1.000000    0.000000    1.000000  \n",
       "max      1.000000    1.000000    1.000000  "
      ]
     },
     "execution_count": 453,
     "metadata": {},
     "output_type": "execute_result"
    }
   ],
   "source": [
    "#Assess the mean and range of age\n",
    "data.describe()"
   ]
  },
  {
   "cell_type": "code",
   "execution_count": 454,
   "id": "d75c5878",
   "metadata": {},
   "outputs": [
    {
     "data": {
      "text/plain": [
       "Text(0.5, 1.0, 'Age Distribution')"
      ]
     },
     "execution_count": 454,
     "metadata": {},
     "output_type": "execute_result"
    },
    {
     "data": {
      "image/png": "[encoded data removed]",
      "text/plain": [
       "<Figure size 432x288 with 1 Axes>"
      ]
     },
     "metadata": {
      "needs_background": "light"
     },
     "output_type": "display_data"
    }
   ],
   "source": [
    "#See data distribution by age on histogram\n",
    "import matplotlib.pyplot as plt\n",
    "plt.hist(data['Age'], align=\"right\", edgecolor='black')\n",
    "plt.xlabel(\"Age of Patients\")\n",
    "plt.ylabel(\"Number of Patients\")\n",
    "plt.title(\"Age Distribution\")"
   ]
  },
  {
   "cell_type": "code",
   "execution_count": 455,
   "id": "89c4fbc3",
   "metadata": {},
   "outputs": [
    {
     "data": {
      "text/html": [
       "<div>\n",
       "<style scoped>\n",
       "    .dataframe tbody tr th:only-of-type {\n",
       "        vertical-align: middle;\n",
       "    }\n",
       "\n",
       "    .dataframe tbody tr th {\n",
       "        vertical-align: top;\n",
       "    }\n",
       "\n",
       "    .dataframe thead th {\n",
       "        text-align: right;\n",
       "    }\n",
       "</style>\n",
       "<table border=\"1\" class=\"dataframe\">\n",
       "  <thead>\n",
       "    <tr style=\"text-align: right;\">\n",
       "      <th></th>\n",
       "      <th>Age</th>\n",
       "      <th>Gender</th>\n",
       "      <th>Polyuria</th>\n",
       "      <th>Polydipsia</th>\n",
       "      <th>sudden weight loss</th>\n",
       "      <th>weakness</th>\n",
       "      <th>Polyphagia</th>\n",
       "      <th>Genital thrush</th>\n",
       "      <th>visual blurring</th>\n",
       "      <th>Itching</th>\n",
       "      <th>Irritability</th>\n",
       "      <th>delayed healing</th>\n",
       "      <th>partial paresis</th>\n",
       "      <th>muscle stiffness</th>\n",
       "      <th>Alopecia</th>\n",
       "      <th>Obesity</th>\n",
       "      <th>class</th>\n",
       "    </tr>\n",
       "  </thead>\n",
       "  <tbody>\n",
       "    <tr>\n",
       "      <th>count</th>\n",
       "      <td>520.000000</td>\n",
       "      <td>520.000000</td>\n",
       "      <td>520.000000</td>\n",
       "      <td>520.000000</td>\n",
       "      <td>520.000000</td>\n",
       "      <td>520.000000</td>\n",
       "      <td>520.000000</td>\n",
       "      <td>520.000000</td>\n",
       "      <td>520.000000</td>\n",
       "      <td>520.000000</td>\n",
       "      <td>520.000000</td>\n",
       "      <td>520.000000</td>\n",
       "      <td>520.000000</td>\n",
       "      <td>520.000000</td>\n",
       "      <td>520.000000</td>\n",
       "      <td>520.000000</td>\n",
       "      <td>520.000000</td>\n",
       "    </tr>\n",
       "    <tr>\n",
       "      <th>mean</th>\n",
       "      <td>0.446154</td>\n",
       "      <td>0.369231</td>\n",
       "      <td>0.496154</td>\n",
       "      <td>0.448077</td>\n",
       "      <td>0.417308</td>\n",
       "      <td>0.586538</td>\n",
       "      <td>0.455769</td>\n",
       "      <td>0.223077</td>\n",
       "      <td>0.448077</td>\n",
       "      <td>0.486538</td>\n",
       "      <td>0.242308</td>\n",
       "      <td>0.459615</td>\n",
       "      <td>0.430769</td>\n",
       "      <td>0.375000</td>\n",
       "      <td>0.344231</td>\n",
       "      <td>0.169231</td>\n",
       "      <td>0.615385</td>\n",
       "    </tr>\n",
       "    <tr>\n",
       "      <th>std</th>\n",
       "      <td>0.497571</td>\n",
       "      <td>0.483061</td>\n",
       "      <td>0.500467</td>\n",
       "      <td>0.497776</td>\n",
       "      <td>0.493589</td>\n",
       "      <td>0.492928</td>\n",
       "      <td>0.498519</td>\n",
       "      <td>0.416710</td>\n",
       "      <td>0.497776</td>\n",
       "      <td>0.500300</td>\n",
       "      <td>0.428892</td>\n",
       "      <td>0.498846</td>\n",
       "      <td>0.495661</td>\n",
       "      <td>0.484589</td>\n",
       "      <td>0.475574</td>\n",
       "      <td>0.375317</td>\n",
       "      <td>0.486973</td>\n",
       "    </tr>\n",
       "    <tr>\n",
       "      <th>min</th>\n",
       "      <td>0.000000</td>\n",
       "      <td>0.000000</td>\n",
       "      <td>0.000000</td>\n",
       "      <td>0.000000</td>\n",
       "      <td>0.000000</td>\n",
       "      <td>0.000000</td>\n",
       "      <td>0.000000</td>\n",
       "      <td>0.000000</td>\n",
       "      <td>0.000000</td>\n",
       "      <td>0.000000</td>\n",
       "      <td>0.000000</td>\n",
       "      <td>0.000000</td>\n",
       "      <td>0.000000</td>\n",
       "      <td>0.000000</td>\n",
       "      <td>0.000000</td>\n",
       "      <td>0.000000</td>\n",
       "      <td>0.000000</td>\n",
       "    </tr>\n",
       "    <tr>\n",
       "      <th>25%</th>\n",
       "      <td>0.000000</td>\n",
       "      <td>0.000000</td>\n",
       "      <td>0.000000</td>\n",
       "      <td>0.000000</td>\n",
       "      <td>0.000000</td>\n",
       "      <td>0.000000</td>\n",
       "      <td>0.000000</td>\n",
       "      <td>0.000000</td>\n",
       "      <td>0.000000</td>\n",
       "      <td>0.000000</td>\n",
       "      <td>0.000000</td>\n",
       "      <td>0.000000</td>\n",
       "      <td>0.000000</td>\n",
       "      <td>0.000000</td>\n",
       "      <td>0.000000</td>\n",
       "      <td>0.000000</td>\n",
       "      <td>0.000000</td>\n",
       "    </tr>\n",
       "    <tr>\n",
       "      <th>50%</th>\n",
       "      <td>0.000000</td>\n",
       "      <td>0.000000</td>\n",
       "      <td>0.000000</td>\n",
       "      <td>0.000000</td>\n",
       "      <td>0.000000</td>\n",
       "      <td>1.000000</td>\n",
       "      <td>0.000000</td>\n",
       "      <td>0.000000</td>\n",
       "      <td>0.000000</td>\n",
       "      <td>0.000000</td>\n",
       "      <td>0.000000</td>\n",
       "      <td>0.000000</td>\n",
       "      <td>0.000000</td>\n",
       "      <td>0.000000</td>\n",
       "      <td>0.000000</td>\n",
       "      <td>0.000000</td>\n",
       "      <td>1.000000</td>\n",
       "    </tr>\n",
       "    <tr>\n",
       "      <th>75%</th>\n",
       "      <td>1.000000</td>\n",
       "      <td>1.000000</td>\n",
       "      <td>1.000000</td>\n",
       "      <td>1.000000</td>\n",
       "      <td>1.000000</td>\n",
       "      <td>1.000000</td>\n",
       "      <td>1.000000</td>\n",
       "      <td>0.000000</td>\n",
       "      <td>1.000000</td>\n",
       "      <td>1.000000</td>\n",
       "      <td>0.000000</td>\n",
       "      <td>1.000000</td>\n",
       "      <td>1.000000</td>\n",
       "      <td>1.000000</td>\n",
       "      <td>1.000000</td>\n",
       "      <td>0.000000</td>\n",
       "      <td>1.000000</td>\n",
       "    </tr>\n",
       "    <tr>\n",
       "      <th>max</th>\n",
       "      <td>1.000000</td>\n",
       "      <td>1.000000</td>\n",
       "      <td>1.000000</td>\n",
       "      <td>1.000000</td>\n",
       "      <td>1.000000</td>\n",
       "      <td>1.000000</td>\n",
       "      <td>1.000000</td>\n",
       "      <td>1.000000</td>\n",
       "      <td>1.000000</td>\n",
       "      <td>1.000000</td>\n",
       "      <td>1.000000</td>\n",
       "      <td>1.000000</td>\n",
       "      <td>1.000000</td>\n",
       "      <td>1.000000</td>\n",
       "      <td>1.000000</td>\n",
       "      <td>1.000000</td>\n",
       "      <td>1.000000</td>\n",
       "    </tr>\n",
       "  </tbody>\n",
       "</table>\n",
       "</div>"
      ],
      "text/plain": [
       "              Age      Gender    Polyuria  Polydipsia  sudden weight loss  \\\n",
       "count  520.000000  520.000000  520.000000  520.000000          520.000000   \n",
       "mean     0.446154    0.369231    0.496154    0.448077            0.417308   \n",
       "std      0.497571    0.483061    0.500467    0.497776            0.493589   \n",
       "min      0.000000    0.000000    0.000000    0.000000            0.000000   \n",
       "25%      0.000000    0.000000    0.000000    0.000000            0.000000   \n",
       "50%      0.000000    0.000000    0.000000    0.000000            0.000000   \n",
       "75%      1.000000    1.000000    1.000000    1.000000            1.000000   \n",
       "max      1.000000    1.000000    1.000000    1.000000            1.000000   \n",
       "\n",
       "         weakness  Polyphagia  Genital thrush  visual blurring     Itching  \\\n",
       "count  520.000000  520.000000      520.000000       520.000000  520.000000   \n",
       "mean     0.586538    0.455769        0.223077         0.448077    0.486538   \n",
       "std      0.492928    0.498519        0.416710         0.497776    0.500300   \n",
       "min      0.000000    0.000000        0.000000         0.000000    0.000000   \n",
       "25%      0.000000    0.000000        0.000000         0.000000    0.000000   \n",
       "50%      1.000000    0.000000        0.000000         0.000000    0.000000   \n",
       "75%      1.000000    1.000000        0.000000         1.000000    1.000000   \n",
       "max      1.000000    1.000000        1.000000         1.000000    1.000000   \n",
       "\n",
       "       Irritability  delayed healing  partial paresis  muscle stiffness  \\\n",
       "count    520.000000       520.000000       520.000000        520.000000   \n",
       "mean       0.242308         0.459615         0.430769          0.375000   \n",
       "std        0.428892         0.498846         0.495661          0.484589   \n",
       "min        0.000000         0.000000         0.000000          0.000000   \n",
       "25%        0.000000         0.000000         0.000000          0.000000   \n",
       "50%        0.000000         0.000000         0.000000          0.000000   \n",
       "75%        0.000000         1.000000         1.000000          1.000000   \n",
       "max        1.000000         1.000000         1.000000          1.000000   \n",
       "\n",
       "         Alopecia     Obesity       class  \n",
       "count  520.000000  520.000000  520.000000  \n",
       "mean     0.344231    0.169231    0.615385  \n",
       "std      0.475574    0.375317    0.486973  \n",
       "min      0.000000    0.000000    0.000000  \n",
       "25%      0.000000    0.000000    0.000000  \n",
       "50%      0.000000    0.000000    1.000000  \n",
       "75%      1.000000    0.000000    1.000000  \n",
       "max      1.000000    1.000000    1.000000  "
      ]
     },
     "execution_count": 455,
     "metadata": {},
     "output_type": "execute_result"
    }
   ],
   "source": [
    "#Decide that 48 is a good age to split the data evenly\n",
    "#you will want to only run this square once, or it will turn all values to 0. \n",
    "age = 48\n",
    "data['Age'] = np.where(data['Age']<=age,0, data['Age'])\n",
    "data['Age'] = np.where(data['Age']>age, 1, data['Age'])\n",
    "data.describe()"
   ]
  },
  {
   "cell_type": "markdown",
   "id": "4b496a6d",
   "metadata": {},
   "source": [
    "## Feature Selection methods"
   ]
  },
  {
   "cell_type": "code",
   "execution_count": 456,
   "id": "dca354ba",
   "metadata": {},
   "outputs": [
    {
     "data": {
      "text/plain": [
       "<AxesSubplot:>"
      ]
     },
     "execution_count": 456,
     "metadata": {},
     "output_type": "execute_result"
    },
    {
     "data": {
      "image/png": "[encoded data removed]",
      "text/plain": [
       "<Figure size 864x864 with 2 Axes>"
      ]
     },
     "metadata": {
      "needs_background": "light"
     },
     "output_type": "display_data"
    }
   ],
   "source": [
    "# First try Pearson's correlation\n",
    "import matplotlib.pyplot as plt\n",
    "fig, ax = plt.subplots(figsize=(12,12))\n",
    "correlation = data.corr(method=\"pearson\")\n",
    "seaborn.heatmap(correlation, annot=True, linewidths=0.5, ax=ax)"
   ]
  },
  {
   "cell_type": "code",
   "execution_count": 457,
   "id": "d9c87b24",
   "metadata": {},
   "outputs": [
    {
     "name": "stdout",
     "output_type": "stream",
     "text": [
      "Age                   1.000000\n",
      "visual blurring       0.397107\n",
      "muscle stiffness      0.263705\n",
      "Alopecia              0.261688\n",
      "Polyphagia            0.258368\n",
      "delayed healing       0.243509\n",
      "partial paresis       0.219232\n",
      "Itching               0.209936\n",
      "weakness              0.187936\n",
      "Polyuria              0.153917\n",
      "Irritability          0.133487\n",
      "Polydipsia            0.117050\n",
      "Obesity               0.110795\n",
      "class                 0.081354\n",
      "sudden weight loss    0.040675\n",
      "Genital thrush       -0.007005\n",
      "Gender               -0.045385\n",
      "Name: Age, dtype: float64\n",
      "\n",
      "\n",
      "Gender                1.000000\n",
      "class                 0.449233\n",
      "partial paresis       0.332288\n",
      "Polydipsia            0.312262\n",
      "sudden weight loss    0.281840\n",
      "Polyuria              0.268894\n",
      "Polyphagia            0.219968\n",
      "visual blurring       0.208092\n",
      "weakness              0.124490\n",
      "delayed healing       0.101978\n",
      "muscle stiffness      0.090542\n",
      "Itching               0.052496\n",
      "Irritability          0.013735\n",
      "Obesity               0.005396\n",
      "Age                  -0.045385\n",
      "Genital thrush       -0.208961\n",
      "Alopecia             -0.327871\n",
      "Name: Gender, dtype: float64\n",
      "\n",
      "\n",
      "Polyuria              1.000000\n",
      "class                 0.665922\n",
      "Polydipsia            0.598609\n",
      "sudden weight loss    0.447207\n",
      "partial paresis       0.441664\n",
      "Polyphagia            0.373873\n",
      "Gender                0.268894\n",
      "weakness              0.263000\n",
      "Irritability          0.237740\n",
      "visual blurring       0.235095\n",
      "Age                   0.153917\n",
      "muscle stiffness      0.152938\n",
      "delayed healing       0.149873\n",
      "Obesity               0.126567\n",
      "Itching               0.088289\n",
      "Genital thrush        0.087273\n",
      "Alopecia             -0.144192\n",
      "Name: Polyuria, dtype: float64\n",
      "\n",
      "\n",
      "Polydipsia            1.000000\n",
      "class                 0.648734\n",
      "Polyuria              0.598609\n",
      "partial paresis       0.442249\n",
      "sudden weight loss    0.405965\n",
      "weakness              0.332453\n",
      "visual blurring       0.331250\n",
      "Polyphagia            0.316839\n",
      "Gender                0.312262\n",
      "Irritability          0.203446\n",
      "muscle stiffness      0.180723\n",
      "Itching               0.128716\n",
      "Age                   0.117050\n",
      "delayed healing       0.115691\n",
      "Obesity               0.098691\n",
      "Genital thrush        0.028081\n",
      "Alopecia             -0.310964\n",
      "Name: Polydipsia, dtype: float64\n",
      "\n",
      "\n",
      "sudden weight loss    1.000000\n",
      "Polyuria              0.447207\n",
      "class                 0.436568\n",
      "Polydipsia            0.405965\n",
      "weakness              0.282884\n",
      "Gender                0.281840\n",
      "partial paresis       0.264014\n",
      "Polyphagia            0.243511\n",
      "Obesity               0.169294\n",
      "Irritability          0.140340\n",
      "muscle stiffness      0.109756\n",
      "Genital thrush        0.089858\n",
      "delayed healing       0.088140\n",
      "visual blurring       0.068754\n",
      "Age                   0.040675\n",
      "Itching              -0.004516\n",
      "Alopecia             -0.202727\n",
      "Name: sudden weight loss, dtype: float64\n",
      "\n",
      "\n",
      "weakness              1.000000\n",
      "delayed healing       0.335507\n",
      "Polydipsia            0.332453\n",
      "Itching               0.309440\n",
      "visual blurring       0.301043\n",
      "sudden weight loss    0.282884\n",
      "partial paresis       0.272982\n",
      "muscle stiffness      0.263164\n",
      "Polyuria              0.263000\n",
      "class                 0.243275\n",
      "Age                   0.187936\n",
      "Polyphagia            0.180266\n",
      "Irritability          0.146698\n",
      "Gender                0.124490\n",
      "Alopecia              0.090490\n",
      "Obesity               0.045665\n",
      "Genital thrush        0.027780\n",
      "Name: weakness, dtype: float64\n",
      "\n",
      "\n",
      "Polyphagia            1.000000\n",
      "Polyuria              0.373873\n",
      "partial paresis       0.373569\n",
      "class                 0.342504\n",
      "muscle stiffness      0.320031\n",
      "Polydipsia            0.316839\n",
      "visual blurring       0.293545\n",
      "delayed healing       0.263980\n",
      "Age                   0.258368\n",
      "sudden weight loss    0.243511\n",
      "Irritability          0.239466\n",
      "Gender                0.219968\n",
      "weakness              0.180266\n",
      "Itching               0.144390\n",
      "Obesity               0.029785\n",
      "Alopecia             -0.053498\n",
      "Genital thrush       -0.063712\n",
      "Name: Polyphagia, dtype: float64\n",
      "\n",
      "\n",
      "Genital thrush        1.000000\n",
      "Alopecia              0.204847\n",
      "Irritability          0.160551\n",
      "delayed healing       0.136111\n",
      "Itching               0.125336\n",
      "class                 0.110288\n",
      "sudden weight loss    0.089858\n",
      "Polyuria              0.087273\n",
      "Obesity               0.053828\n",
      "Polydipsia            0.028081\n",
      "weakness              0.027780\n",
      "Age                  -0.007005\n",
      "Polyphagia           -0.063712\n",
      "muscle stiffness     -0.100188\n",
      "visual blurring      -0.148408\n",
      "partial paresis      -0.195612\n",
      "Gender               -0.208961\n",
      "Name: Genital thrush, dtype: float64\n",
      "\n",
      "\n",
      "visual blurring       1.000000\n",
      "muscle stiffness      0.412369\n",
      "Age                   0.397107\n",
      "partial paresis       0.364156\n",
      "Polydipsia            0.331250\n",
      "weakness              0.301043\n",
      "Polyphagia            0.293545\n",
      "Itching               0.291191\n",
      "class                 0.251300\n",
      "Polyuria              0.235095\n",
      "Gender                0.208092\n",
      "delayed healing       0.177767\n",
      "Obesity               0.109005\n",
      "Irritability          0.077095\n",
      "sudden weight loss    0.068754\n",
      "Alopecia              0.014604\n",
      "Genital thrush       -0.148408\n",
      "Name: visual blurring, dtype: float64\n",
      "\n",
      "\n",
      "Itching               1.000000\n",
      "delayed healing       0.453316\n",
      "weakness              0.309440\n",
      "visual blurring       0.291191\n",
      "Alopecia              0.266506\n",
      "muscle stiffness      0.215575\n",
      "Age                   0.209936\n",
      "Polyphagia            0.144390\n",
      "Polydipsia            0.128716\n",
      "Genital thrush        0.125336\n",
      "partial paresis       0.116669\n",
      "Irritability          0.114006\n",
      "Polyuria              0.088289\n",
      "Gender                0.052496\n",
      "Obesity               0.001894\n",
      "sudden weight loss   -0.004516\n",
      "class                -0.013384\n",
      "Name: Itching, dtype: float64\n",
      "\n",
      "\n",
      "Irritability          1.000000\n",
      "class                 0.299467\n",
      "Polyphagia            0.239466\n",
      "Polyuria              0.237740\n",
      "Polydipsia            0.203446\n",
      "muscle stiffness      0.201637\n",
      "Genital thrush        0.160551\n",
      "partial paresis       0.151571\n",
      "weakness              0.146698\n",
      "sudden weight loss    0.140340\n",
      "Age                   0.133487\n",
      "Obesity               0.127801\n",
      "delayed healing       0.126877\n",
      "Itching               0.114006\n",
      "visual blurring       0.077095\n",
      "Alopecia              0.043708\n",
      "Gender                0.013735\n",
      "Name: Irritability, dtype: float64\n",
      "\n",
      "\n",
      "delayed healing       1.000000\n",
      "Itching               0.453316\n",
      "weakness              0.335507\n",
      "Alopecia              0.290179\n",
      "Polyphagia            0.263980\n",
      "muscle stiffness      0.250078\n",
      "Age                   0.243509\n",
      "partial paresis       0.187382\n",
      "visual blurring       0.177767\n",
      "Polyuria              0.149873\n",
      "Genital thrush        0.136111\n",
      "Irritability          0.126877\n",
      "Polydipsia            0.115691\n",
      "Gender                0.101978\n",
      "sudden weight loss    0.088140\n",
      "class                 0.046980\n",
      "Obesity              -0.066339\n",
      "Name: delayed healing, dtype: float64\n",
      "\n",
      "\n",
      "partial paresis       1.000000\n",
      "Polydipsia            0.442249\n",
      "Polyuria              0.441664\n",
      "class                 0.432288\n",
      "Polyphagia            0.373569\n",
      "visual blurring       0.364156\n",
      "Gender                0.332288\n",
      "weakness              0.272982\n",
      "sudden weight loss    0.264014\n",
      "muscle stiffness      0.232634\n",
      "Age                   0.219232\n",
      "delayed healing       0.187382\n",
      "Irritability          0.151571\n",
      "Itching               0.116669\n",
      "Obesity              -0.009401\n",
      "Genital thrush       -0.195612\n",
      "Alopecia             -0.221576\n",
      "Name: partial paresis, dtype: float64\n",
      "\n",
      "\n",
      "muscle stiffness      1.000000\n",
      "visual blurring       0.412369\n",
      "Polyphagia            0.320031\n",
      "Age                   0.263705\n",
      "weakness              0.263164\n",
      "delayed healing       0.250078\n",
      "partial paresis       0.232634\n",
      "Itching               0.215575\n",
      "Irritability          0.201637\n",
      "Polydipsia            0.180723\n",
      "Obesity               0.158910\n",
      "Polyuria              0.152938\n",
      "class                 0.122474\n",
      "sudden weight loss    0.109756\n",
      "Gender                0.090542\n",
      "Alopecia              0.040758\n",
      "Genital thrush       -0.100188\n",
      "Name: muscle stiffness, dtype: float64\n",
      "\n",
      "\n",
      "Alopecia              1.000000\n",
      "delayed healing       0.290179\n",
      "Itching               0.266506\n",
      "Age                   0.261688\n",
      "Genital thrush        0.204847\n",
      "weakness              0.090490\n",
      "Irritability          0.043708\n",
      "muscle stiffness      0.040758\n",
      "Obesity               0.029229\n",
      "visual blurring       0.014604\n",
      "Polyphagia           -0.053498\n",
      "Polyuria             -0.144192\n",
      "sudden weight loss   -0.202727\n",
      "partial paresis      -0.221576\n",
      "class                -0.267512\n",
      "Polydipsia           -0.310964\n",
      "Gender               -0.327871\n",
      "Name: Alopecia, dtype: float64\n",
      "\n",
      "\n",
      "Obesity               1.000000\n",
      "sudden weight loss    0.169294\n",
      "muscle stiffness      0.158910\n",
      "Irritability          0.127801\n",
      "Polyuria              0.126567\n",
      "Age                   0.110795\n",
      "visual blurring       0.109005\n",
      "Polydipsia            0.098691\n",
      "class                 0.072173\n",
      "Genital thrush        0.053828\n",
      "weakness              0.045665\n",
      "Polyphagia            0.029785\n",
      "Alopecia              0.029229\n",
      "Gender                0.005396\n",
      "Itching               0.001894\n",
      "partial paresis      -0.009401\n",
      "delayed healing      -0.066339\n",
      "Name: Obesity, dtype: float64\n",
      "\n",
      "\n",
      "class                 1.000000\n",
      "Polyuria              0.665922\n",
      "Polydipsia            0.648734\n",
      "Gender                0.449233\n",
      "sudden weight loss    0.436568\n",
      "partial paresis       0.432288\n",
      "Polyphagia            0.342504\n",
      "Irritability          0.299467\n",
      "visual blurring       0.251300\n",
      "weakness              0.243275\n",
      "muscle stiffness      0.122474\n",
      "Genital thrush        0.110288\n",
      "Age                   0.081354\n",
      "Obesity               0.072173\n",
      "delayed healing       0.046980\n",
      "Itching              -0.013384\n",
      "Alopecia             -0.267512\n",
      "Name: class, dtype: float64\n",
      "\n",
      "\n"
     ]
    }
   ],
   "source": [
    "for col in data:\n",
    "    print(correlation[col].sort_values(ascending=False))\n",
    "    print(\"\\n\")"
   ]
  },
  {
   "cell_type": "code",
   "execution_count": 458,
   "id": "a99971fc",
   "metadata": {},
   "outputs": [
    {
     "data": {
      "text/plain": [
       "array([[0, 0, 0, ..., 1, 1, 1],\n",
       "       [1, 0, 0, ..., 0, 1, 0],\n",
       "       [0, 0, 1, ..., 1, 1, 0],\n",
       "       ...,\n",
       "       [1, 1, 1, ..., 1, 0, 1],\n",
       "       [0, 1, 0, ..., 0, 1, 0],\n",
       "       [0, 0, 0, ..., 0, 0, 0]], dtype=int64)"
      ]
     },
     "execution_count": 458,
     "metadata": {},
     "output_type": "execute_result"
    }
   ],
   "source": [
    "#Check for low variance features\n",
    "from sklearn.feature_selection import VarianceThreshold\n",
    "selector = VarianceThreshold(.90*(1-.90))\n",
    "no_target = data.drop(\"class\", axis=1)\n",
    "selector.fit_transform(no_target)"
   ]
  },
  {
   "cell_type": "code",
   "execution_count": 459,
   "id": "5e7ad1e1",
   "metadata": {},
   "outputs": [
    {
     "data": {
      "text/plain": [
       "array([1.90614224e+00, 6.61938802e+01, 1.16184593e+02, 1.20785515e+02,\n",
       "       5.77493088e+01, 1.27242623e+01, 3.31984177e+01, 4.91400862e+00,\n",
       "       1.81245708e+01, 4.78260870e-02, 3.53341270e+01, 6.20188285e-01,\n",
       "       5.53142857e+01, 4.87500000e+00, 2.44027933e+01, 2.25028409e+00])"
      ]
     },
     "execution_count": 459,
     "metadata": {},
     "output_type": "execute_result"
    }
   ],
   "source": [
    "#use a chi-test\n",
    "from sklearn.feature_selection import SelectKBest\n",
    "from sklearn.feature_selection import chi2\n",
    "col_num = 16\n",
    "select_chi = SelectKBest(chi2, k=\"all\")\n",
    "select_chi.fit(data.iloc[:,:col_num].values, data.iloc[:, -1].values)\n",
    "chi_scores = select_chi.scores_\n",
    "minimum_score = min(chi_scores)\n",
    "chi_scores\n",
    "# np.where(chi_scores == minimum_score)"
   ]
  },
  {
   "cell_type": "code",
   "execution_count": 460,
   "id": "c94a3c72",
   "metadata": {},
   "outputs": [],
   "source": [
    "#Itching has the lowest, chi-test score, so we can get rid of itching. \n",
    "if 'Itching' in data.columns:\n",
    "    data = data.drop(columns=['Itching'])"
   ]
  },
  {
   "cell_type": "markdown",
   "id": "6e91af46",
   "metadata": {},
   "source": [
    "## Model 1) KNN, KNN-Weighted"
   ]
  },
  {
   "cell_type": "code",
   "execution_count": 461,
   "id": "b1a21959",
   "metadata": {},
   "outputs": [],
   "source": [
    "#split the data into test set(20%) and training set\n",
    "from sklearn.model_selection import train_test_split\n",
    "train_set, test_set = train_test_split(data, test_size=0.2, random_state=43)\n",
    "#make a copy of training set just incase we accidentally mutate data\n",
    "train_set_copy = train_set.copy()\n",
    "test_set_copy = test_set.copy()"
   ]
  },
  {
   "cell_type": "code",
   "execution_count": 462,
   "id": "e32bcb1d",
   "metadata": {},
   "outputs": [
    {
     "data": {
      "text/plain": [
       "KNeighborsClassifier()"
      ]
     },
     "execution_count": 462,
     "metadata": {},
     "output_type": "execute_result"
    }
   ],
   "source": [
    "from sklearn.neighbors import KNeighborsClassifier\n",
    "#default of number of neighbors\n",
    "col_num = len(data.columns) - 1\n",
    "num_neighbors = 5\n",
    "train_features = train_set_copy.iloc[:,:col_num].values\n",
    "train_target = train_set_copy.iloc[:, -1].values\n",
    "neigh = KNeighborsClassifier(n_neighbors = num_neighbors)\n",
    "neigh.fit(train_features, train_target)"
   ]
  },
  {
   "cell_type": "code",
   "execution_count": 463,
   "id": "c0e840a4",
   "metadata": {},
   "outputs": [
    {
     "data": {
      "text/plain": [
       "KNeighborsClassifier(weights='distance')"
      ]
     },
     "execution_count": 463,
     "metadata": {},
     "output_type": "execute_result"
    }
   ],
   "source": [
    "#Below is KNN weighted\n",
    "neigh_weighted = KNeighborsClassifier(n_neighbors = num_neighbors, weights=\"distance\")\n",
    "neigh_weighted.fit(train_features, train_target)"
   ]
  },
  {
   "cell_type": "markdown",
   "id": "f797832e",
   "metadata": {},
   "source": [
    "### Use Analysis of n-fold, cross validation, and confusion matrix"
   ]
  },
  {
   "cell_type": "code",
   "execution_count": 464,
   "id": "2658fbb5",
   "metadata": {},
   "outputs": [
    {
     "name": "stdout",
     "output_type": "stream",
     "text": [
      "KNN score:  0.9038461538461539\n",
      "KNN weighted score:  0.9230769230769231\n"
     ]
    }
   ],
   "source": [
    "#Test accuracy\n",
    "from sklearn.metrics import accuracy_score\n",
    "#observe accuracy for KNN\n",
    "test_features = test_set_copy.iloc[:, :col_num].values\n",
    "knn_predictions = neigh.predict(test_features)\n",
    "knn_weighted_predictions = neigh_weighted.predict(test_features)\n",
    "actual = test_set_copy.iloc[:, -1]\n",
    "#observe accuracy for KNN weighted\n",
    "knn_acc = accuracy_score(knn_predictions, actual)\n",
    "knn_weighted = accuracy_score(knn_weighted_predictions, actual)\n",
    "print(\"KNN score: \", knn_acc)\n",
    "print(\"KNN weighted score: \", knn_weighted)\n",
    "PROCESSED_ACC.append(knn_weighted)"
   ]
  },
  {
   "cell_type": "code",
   "execution_count": 465,
   "id": "107874f2",
   "metadata": {},
   "outputs": [],
   "source": [
    "# function to plot KNN algorithm that uses Scikit-learn. \n",
    "import matplotlib.pyplot as plt\n",
    "def plot_sklearn_knn (weighted=\"uniform\"):\n",
    "    k_values = []\n",
    "    error_rate = []\n",
    "    for i in range(1, 30):\n",
    "        k_values.append(i)\n",
    "        neigh = KNeighborsClassifier(n_neighbors = i, weights=weighted)\n",
    "        neigh.fit(train_set_copy.iloc[:,:col_num].values, train_set_copy.iloc[:, -1].values)\n",
    "        predictions = neigh.predict(test_set_copy.iloc[:, :-1].values)\n",
    "        actual = test_set_copy.iloc[:, -1]\n",
    "        error = 1 - accuracy_score(predictions, actual)\n",
    "        error_rate.append(error)\n",
    "    plt.xlabel(\"k-values\")\n",
    "    plt.ylabel(\"Error Rate\")\n",
    "    plt.title(\"Using Sklearn KNN\")\n",
    "    plt.plot(k_values, error_rate)\n",
    "    plt.show()\n",
    "        "
   ]
  },
  {
   "cell_type": "code",
   "execution_count": 466,
   "id": "8c78704c",
   "metadata": {},
   "outputs": [
    {
     "data": {
      "image/png": "[encoded data removed]",
      "text/plain": [
       "<Figure size 432x288 with 1 Axes>"
      ]
     },
     "metadata": {
      "needs_background": "light"
     },
     "output_type": "display_data"
    }
   ],
   "source": [
    "plot_sklearn_knn(\"distance\")        "
   ]
  },
  {
   "cell_type": "code",
   "execution_count": 467,
   "id": "855234c2",
   "metadata": {},
   "outputs": [
    {
     "data": {
      "text/html": [
       "<div>\n",
       "<style scoped>\n",
       "    .dataframe tbody tr th:only-of-type {\n",
       "        vertical-align: middle;\n",
       "    }\n",
       "\n",
       "    .dataframe tbody tr th {\n",
       "        vertical-align: top;\n",
       "    }\n",
       "\n",
       "    .dataframe thead th {\n",
       "        text-align: right;\n",
       "    }\n",
       "</style>\n",
       "<table border=\"1\" class=\"dataframe\">\n",
       "  <thead>\n",
       "    <tr style=\"text-align: right;\">\n",
       "      <th></th>\n",
       "      <th>Age</th>\n",
       "      <th>Gender</th>\n",
       "      <th>Polyuria</th>\n",
       "      <th>Polydipsia</th>\n",
       "      <th>sudden weight loss</th>\n",
       "      <th>weakness</th>\n",
       "      <th>Polyphagia</th>\n",
       "      <th>Genital thrush</th>\n",
       "      <th>visual blurring</th>\n",
       "      <th>Irritability</th>\n",
       "      <th>delayed healing</th>\n",
       "      <th>partial paresis</th>\n",
       "      <th>muscle stiffness</th>\n",
       "      <th>Alopecia</th>\n",
       "      <th>Obesity</th>\n",
       "      <th>class</th>\n",
       "    </tr>\n",
       "  </thead>\n",
       "  <tbody>\n",
       "    <tr>\n",
       "      <th>0</th>\n",
       "      <td>0</td>\n",
       "      <td>0</td>\n",
       "      <td>0</td>\n",
       "      <td>1</td>\n",
       "      <td>0</td>\n",
       "      <td>1</td>\n",
       "      <td>0</td>\n",
       "      <td>0</td>\n",
       "      <td>0</td>\n",
       "      <td>0</td>\n",
       "      <td>1</td>\n",
       "      <td>0</td>\n",
       "      <td>1</td>\n",
       "      <td>1</td>\n",
       "      <td>1</td>\n",
       "      <td>1</td>\n",
       "    </tr>\n",
       "    <tr>\n",
       "      <th>1</th>\n",
       "      <td>1</td>\n",
       "      <td>0</td>\n",
       "      <td>0</td>\n",
       "      <td>0</td>\n",
       "      <td>0</td>\n",
       "      <td>1</td>\n",
       "      <td>0</td>\n",
       "      <td>0</td>\n",
       "      <td>1</td>\n",
       "      <td>0</td>\n",
       "      <td>0</td>\n",
       "      <td>1</td>\n",
       "      <td>0</td>\n",
       "      <td>1</td>\n",
       "      <td>0</td>\n",
       "      <td>1</td>\n",
       "    </tr>\n",
       "    <tr>\n",
       "      <th>2</th>\n",
       "      <td>0</td>\n",
       "      <td>0</td>\n",
       "      <td>1</td>\n",
       "      <td>0</td>\n",
       "      <td>0</td>\n",
       "      <td>1</td>\n",
       "      <td>1</td>\n",
       "      <td>0</td>\n",
       "      <td>0</td>\n",
       "      <td>0</td>\n",
       "      <td>1</td>\n",
       "      <td>0</td>\n",
       "      <td>1</td>\n",
       "      <td>1</td>\n",
       "      <td>0</td>\n",
       "      <td>1</td>\n",
       "    </tr>\n",
       "    <tr>\n",
       "      <th>3</th>\n",
       "      <td>0</td>\n",
       "      <td>0</td>\n",
       "      <td>0</td>\n",
       "      <td>0</td>\n",
       "      <td>1</td>\n",
       "      <td>1</td>\n",
       "      <td>1</td>\n",
       "      <td>1</td>\n",
       "      <td>0</td>\n",
       "      <td>0</td>\n",
       "      <td>1</td>\n",
       "      <td>0</td>\n",
       "      <td>0</td>\n",
       "      <td>0</td>\n",
       "      <td>0</td>\n",
       "      <td>1</td>\n",
       "    </tr>\n",
       "    <tr>\n",
       "      <th>4</th>\n",
       "      <td>1</td>\n",
       "      <td>0</td>\n",
       "      <td>1</td>\n",
       "      <td>1</td>\n",
       "      <td>1</td>\n",
       "      <td>1</td>\n",
       "      <td>1</td>\n",
       "      <td>0</td>\n",
       "      <td>1</td>\n",
       "      <td>1</td>\n",
       "      <td>1</td>\n",
       "      <td>1</td>\n",
       "      <td>1</td>\n",
       "      <td>1</td>\n",
       "      <td>1</td>\n",
       "      <td>1</td>\n",
       "    </tr>\n",
       "    <tr>\n",
       "      <th>...</th>\n",
       "      <td>...</td>\n",
       "      <td>...</td>\n",
       "      <td>...</td>\n",
       "      <td>...</td>\n",
       "      <td>...</td>\n",
       "      <td>...</td>\n",
       "      <td>...</td>\n",
       "      <td>...</td>\n",
       "      <td>...</td>\n",
       "      <td>...</td>\n",
       "      <td>...</td>\n",
       "      <td>...</td>\n",
       "      <td>...</td>\n",
       "      <td>...</td>\n",
       "      <td>...</td>\n",
       "      <td>...</td>\n",
       "    </tr>\n",
       "    <tr>\n",
       "      <th>515</th>\n",
       "      <td>0</td>\n",
       "      <td>1</td>\n",
       "      <td>1</td>\n",
       "      <td>1</td>\n",
       "      <td>1</td>\n",
       "      <td>0</td>\n",
       "      <td>1</td>\n",
       "      <td>0</td>\n",
       "      <td>0</td>\n",
       "      <td>0</td>\n",
       "      <td>1</td>\n",
       "      <td>1</td>\n",
       "      <td>0</td>\n",
       "      <td>0</td>\n",
       "      <td>0</td>\n",
       "      <td>1</td>\n",
       "    </tr>\n",
       "    <tr>\n",
       "      <th>516</th>\n",
       "      <td>0</td>\n",
       "      <td>1</td>\n",
       "      <td>1</td>\n",
       "      <td>1</td>\n",
       "      <td>1</td>\n",
       "      <td>1</td>\n",
       "      <td>1</td>\n",
       "      <td>0</td>\n",
       "      <td>0</td>\n",
       "      <td>1</td>\n",
       "      <td>1</td>\n",
       "      <td>1</td>\n",
       "      <td>0</td>\n",
       "      <td>0</td>\n",
       "      <td>0</td>\n",
       "      <td>1</td>\n",
       "    </tr>\n",
       "    <tr>\n",
       "      <th>517</th>\n",
       "      <td>1</td>\n",
       "      <td>1</td>\n",
       "      <td>1</td>\n",
       "      <td>1</td>\n",
       "      <td>1</td>\n",
       "      <td>1</td>\n",
       "      <td>1</td>\n",
       "      <td>0</td>\n",
       "      <td>1</td>\n",
       "      <td>0</td>\n",
       "      <td>0</td>\n",
       "      <td>1</td>\n",
       "      <td>1</td>\n",
       "      <td>0</td>\n",
       "      <td>1</td>\n",
       "      <td>1</td>\n",
       "    </tr>\n",
       "    <tr>\n",
       "      <th>518</th>\n",
       "      <td>0</td>\n",
       "      <td>1</td>\n",
       "      <td>0</td>\n",
       "      <td>0</td>\n",
       "      <td>0</td>\n",
       "      <td>1</td>\n",
       "      <td>0</td>\n",
       "      <td>0</td>\n",
       "      <td>1</td>\n",
       "      <td>0</td>\n",
       "      <td>1</td>\n",
       "      <td>0</td>\n",
       "      <td>0</td>\n",
       "      <td>1</td>\n",
       "      <td>0</td>\n",
       "      <td>0</td>\n",
       "    </tr>\n",
       "    <tr>\n",
       "      <th>519</th>\n",
       "      <td>0</td>\n",
       "      <td>0</td>\n",
       "      <td>0</td>\n",
       "      <td>0</td>\n",
       "      <td>0</td>\n",
       "      <td>0</td>\n",
       "      <td>0</td>\n",
       "      <td>0</td>\n",
       "      <td>0</td>\n",
       "      <td>0</td>\n",
       "      <td>0</td>\n",
       "      <td>0</td>\n",
       "      <td>0</td>\n",
       "      <td>0</td>\n",
       "      <td>0</td>\n",
       "      <td>0</td>\n",
       "    </tr>\n",
       "  </tbody>\n",
       "</table>\n",
       "<p>520 rows × 16 columns</p>\n",
       "</div>"
      ],
      "text/plain": [
       "     Age  Gender  Polyuria  Polydipsia  sudden weight loss  weakness  \\\n",
       "0      0       0         0           1                   0         1   \n",
       "1      1       0         0           0                   0         1   \n",
       "2      0       0         1           0                   0         1   \n",
       "3      0       0         0           0                   1         1   \n",
       "4      1       0         1           1                   1         1   \n",
       "..   ...     ...       ...         ...                 ...       ...   \n",
       "515    0       1         1           1                   1         0   \n",
       "516    0       1         1           1                   1         1   \n",
       "517    1       1         1           1                   1         1   \n",
       "518    0       1         0           0                   0         1   \n",
       "519    0       0         0           0                   0         0   \n",
       "\n",
       "     Polyphagia  Genital thrush  visual blurring  Irritability  \\\n",
       "0             0               0                0             0   \n",
       "1             0               0                1             0   \n",
       "2             1               0                0             0   \n",
       "3             1               1                0             0   \n",
       "4             1               0                1             1   \n",
       "..          ...             ...              ...           ...   \n",
       "515           1               0                0             0   \n",
       "516           1               0                0             1   \n",
       "517           1               0                1             0   \n",
       "518           0               0                1             0   \n",
       "519           0               0                0             0   \n",
       "\n",
       "     delayed healing  partial paresis  muscle stiffness  Alopecia  Obesity  \\\n",
       "0                  1                0                 1         1        1   \n",
       "1                  0                1                 0         1        0   \n",
       "2                  1                0                 1         1        0   \n",
       "3                  1                0                 0         0        0   \n",
       "4                  1                1                 1         1        1   \n",
       "..               ...              ...               ...       ...      ...   \n",
       "515                1                1                 0         0        0   \n",
       "516                1                1                 0         0        0   \n",
       "517                0                1                 1         0        1   \n",
       "518                1                0                 0         1        0   \n",
       "519                0                0                 0         0        0   \n",
       "\n",
       "     class  \n",
       "0        1  \n",
       "1        1  \n",
       "2        1  \n",
       "3        1  \n",
       "4        1  \n",
       "..     ...  \n",
       "515      1  \n",
       "516      1  \n",
       "517      1  \n",
       "518      0  \n",
       "519      0  \n",
       "\n",
       "[520 rows x 16 columns]"
      ]
     },
     "execution_count": 467,
     "metadata": {},
     "output_type": "execute_result"
    }
   ],
   "source": [
    "#set number of neighbors to 5, optimal value we saw from analysis. \n",
    "num_neighbors = 5\n",
    "neigh = KNeighborsClassifier(n_neighbors = num_neighbors)\n",
    "X_values = train_set_copy.iloc[:,:col_num].values\n",
    "Y_values = train_set_copy.iloc[:, -1].values\n",
    "neigh.fit(X_values, Y_values)\n",
    "data"
   ]
  },
  {
   "cell_type": "code",
   "execution_count": 468,
   "id": "d2f404b7",
   "metadata": {},
   "outputs": [
    {
     "name": "stdout",
     "output_type": "stream",
     "text": [
      "Scores: [0.92307692 0.96153846 0.90384615 0.92307692 0.98076923 0.94230769\n",
      " 0.96153846 0.94230769]\n",
      "Mean: 0.9423076923076923\n",
      "Standard Deviation: 0.023552785988299775\n"
     ]
    }
   ],
   "source": [
    "#nfold cross validation for KNN weighted\n",
    "from sklearn.model_selection import cross_val_score\n",
    "CV = 8\n",
    "scores_weighted = cross_val_score(neigh_weighted, train_features, train_target, cv = CV)\n",
    "print(f\"Scores: {scores_weighted}\")\n",
    "print(f\"Mean: {scores_weighted.mean()}\")\n",
    "print(f\"Standard Deviation: {scores_weighted.std()}\")"
   ]
  },
  {
   "cell_type": "code",
   "execution_count": 469,
   "id": "d3714214",
   "metadata": {},
   "outputs": [
    {
     "name": "stdout",
     "output_type": "stream",
     "text": [
      "[[36  3]\n",
      " [ 5 60]]\n",
      "              precision    recall  f1-score   support\n",
      "\n",
      "           0       0.88      0.92      0.90        39\n",
      "           1       0.95      0.92      0.94        65\n",
      "\n",
      "    accuracy                           0.92       104\n",
      "   macro avg       0.92      0.92      0.92       104\n",
      "weighted avg       0.92      0.92      0.92       104\n",
      "\n"
     ]
    }
   ],
   "source": [
    "from sklearn.metrics import confusion_matrix\n",
    "from sklearn.metrics import classification_report\n",
    "#Confusion matrix for KNN weighted\n",
    "def confusion_matrix_learn (actual, predictions):\n",
    "    neigh_confusion_matrix = confusion_matrix(actual, predictions)\n",
    "    classification = classification_report(actual, predictions)\n",
    "    print(neigh_confusion_matrix)\n",
    "    print(classification)\n",
    "confusion_matrix_learn(actual, knn_weighted_predictions)"
   ]
  },
  {
   "cell_type": "markdown",
   "id": "6dc82f42",
   "metadata": {},
   "source": [
    "## Model 2) Naive Bayes"
   ]
  },
  {
   "cell_type": "code",
   "execution_count": 470,
   "id": "3683fc91",
   "metadata": {},
   "outputs": [
    {
     "data": {
      "text/plain": [
       "GaussianNB()"
      ]
     },
     "execution_count": 470,
     "metadata": {},
     "output_type": "execute_result"
    }
   ],
   "source": [
    "## Fit to naive bayes model\n",
    "from sklearn.naive_bayes import GaussianNB\n",
    "gnb = GaussianNB()\n",
    "gnb.fit(train_features, train_target)"
   ]
  },
  {
   "cell_type": "code",
   "execution_count": 471,
   "id": "e4899475",
   "metadata": {},
   "outputs": [
    {
     "name": "stdout",
     "output_type": "stream",
     "text": [
      "Naive Bayes Accuracy: 0.9038461538461539\n"
     ]
    }
   ],
   "source": [
    "## Observe initial accuracy\n",
    "naive_predictions = gnb.predict(test_features)\n",
    "naive_acc = accuracy_score(naive_predictions, actual)\n",
    "print(f\"Naive Bayes Accuracy: {naive_acc}\" )\n",
    "PROCESSED_ACC.append(naive_acc)"
   ]
  },
  {
   "cell_type": "code",
   "execution_count": 472,
   "id": "7af66d1c",
   "metadata": {},
   "outputs": [
    {
     "name": "stdout",
     "output_type": "stream",
     "text": [
      "Scores: [0.88461538 0.82692308 0.90384615 0.86538462 0.92307692 0.90384615\n",
      " 0.94230769 0.90384615]\n",
      "Mean: 0.8942307692307693\n",
      "Standard Deviation: 0.033308669376324575\n"
     ]
    }
   ],
   "source": [
    "### Use Analysis of n-fold, cross validation, and confusion matrix\n",
    "naive_scores = cross_val_score(gnb, X_values, Y_values, cv = CV)\n",
    "print(f\"Scores: {naive_scores}\")\n",
    "print(f\"Mean: {naive_scores.mean()}\")\n",
    "print(f\"Standard Deviation: {naive_scores.std()}\")"
   ]
  },
  {
   "cell_type": "code",
   "execution_count": 473,
   "id": "7dfe8c3f",
   "metadata": {},
   "outputs": [
    {
     "name": "stdout",
     "output_type": "stream",
     "text": [
      "[[34  5]\n",
      " [ 5 60]]\n",
      "              precision    recall  f1-score   support\n",
      "\n",
      "           0       0.87      0.87      0.87        39\n",
      "           1       0.92      0.92      0.92        65\n",
      "\n",
      "    accuracy                           0.90       104\n",
      "   macro avg       0.90      0.90      0.90       104\n",
      "weighted avg       0.90      0.90      0.90       104\n",
      "\n"
     ]
    }
   ],
   "source": [
    "confusion_matrix_learn(actual, naive_predictions)"
   ]
  },
  {
   "cell_type": "markdown",
   "id": "b1873990",
   "metadata": {},
   "source": [
    "## Model 3) SVM "
   ]
  },
  {
   "cell_type": "code",
   "execution_count": 474,
   "id": "cc7b59ee",
   "metadata": {},
   "outputs": [
    {
     "data": {
      "text/plain": [
       "SVC()"
      ]
     },
     "execution_count": 474,
     "metadata": {},
     "output_type": "execute_result"
    }
   ],
   "source": [
    "from sklearn import svm\n",
    "SVM_Clss = svm.SVC()\n",
    "SVM_Clss.fit(train_features, train_target)"
   ]
  },
  {
   "cell_type": "code",
   "execution_count": 475,
   "id": "d45685de",
   "metadata": {},
   "outputs": [
    {
     "name": "stdout",
     "output_type": "stream",
     "text": [
      "SVM acc: 0.9519230769230769\n"
     ]
    }
   ],
   "source": [
    "#observe accuracy for SVM\n",
    "SVM_predictions = SVM_Clss.predict(test_features)\n",
    "svm_acc = accuracy_score(SVM_predictions, actual)\n",
    "print(f\"SVM acc: {svm_acc}\" )\n",
    "PROCESSED_ACC.append(svm_acc)"
   ]
  },
  {
   "cell_type": "code",
   "execution_count": 476,
   "id": "76978638",
   "metadata": {},
   "outputs": [
    {
     "name": "stdout",
     "output_type": "stream",
     "text": [
      "Scores: [0.98076923 1.         0.88461538 1.         0.98076923 0.94230769\n",
      " 0.98076923 0.96153846]\n",
      "Mean: 0.9663461538461537\n",
      "Standard Deviation: 0.035654800418729156\n"
     ]
    }
   ],
   "source": [
    "### Use Analysis of n-fold, cross validation, and confusion matrix\n",
    "svm_scores = cross_val_score(SVM_Clss, X_values, Y_values, cv = CV)\n",
    "print(f\"Scores: {svm_scores}\")\n",
    "print(f\"Mean: {svm_scores.mean()}\")\n",
    "print(f\"Standard Deviation: {svm_scores.std()}\")"
   ]
  },
  {
   "cell_type": "code",
   "execution_count": 477,
   "id": "89360e6a",
   "metadata": {},
   "outputs": [
    {
     "name": "stdout",
     "output_type": "stream",
     "text": [
      "[[36  3]\n",
      " [ 2 63]]\n",
      "              precision    recall  f1-score   support\n",
      "\n",
      "           0       0.95      0.92      0.94        39\n",
      "           1       0.95      0.97      0.96        65\n",
      "\n",
      "    accuracy                           0.95       104\n",
      "   macro avg       0.95      0.95      0.95       104\n",
      "weighted avg       0.95      0.95      0.95       104\n",
      "\n"
     ]
    }
   ],
   "source": [
    "confusion_matrix_learn(actual, SVM_predictions)"
   ]
  },
  {
   "cell_type": "markdown",
   "id": "47b6432b",
   "metadata": {},
   "source": [
    "## Model 4) Decision Tree"
   ]
  },
  {
   "cell_type": "code",
   "execution_count": 478,
   "id": "3d81c572",
   "metadata": {},
   "outputs": [
    {
     "name": "stdout",
     "output_type": "stream",
     "text": [
      "Decision Tree Accuracy: 0.9423076923076923\n"
     ]
    }
   ],
   "source": [
    "from sklearn import tree\n",
    "dec_tree = tree.DecisionTreeClassifier(random_state=0)\n",
    "dec_tree = dec_tree.fit(train_features, train_target)\n",
    "dec_tree_predictions = dec_tree.predict(test_features)\n",
    "dec_acc = accuracy_score(dec_tree_predictions, actual)\n",
    "print(f\"Decision Tree Accuracy: {dec_acc}\" )\n",
    "PROCESSED_ACC.append(dec_acc)"
   ]
  },
  {
   "cell_type": "code",
   "execution_count": 479,
   "id": "87eb902a",
   "metadata": {},
   "outputs": [
    {
     "name": "stdout",
     "output_type": "stream",
     "text": [
      "Scores: [0.98076923 0.96153846 0.88461538 0.98076923 0.96153846 0.92307692\n",
      " 0.96153846 0.92307692]\n",
      "Mean: 0.9471153846153846\n",
      "Standard Deviation: 0.03152614675145192\n"
     ]
    }
   ],
   "source": [
    "### Use Analysis of n-fold, cross validation, and confusion matrix\n",
    "dec_scores = cross_val_score(dec_tree, X_values, Y_values, cv = CV)\n",
    "print(f\"Scores: {dec_scores}\")\n",
    "print(f\"Mean: {dec_scores.mean()}\")\n",
    "print(f\"Standard Deviation: {dec_scores.std()}\")"
   ]
  },
  {
   "cell_type": "code",
   "execution_count": 480,
   "id": "fdc7098d",
   "metadata": {},
   "outputs": [
    {
     "name": "stdout",
     "output_type": "stream",
     "text": [
      "[[36  3]\n",
      " [ 3 62]]\n",
      "              precision    recall  f1-score   support\n",
      "\n",
      "           0       0.92      0.92      0.92        39\n",
      "           1       0.95      0.95      0.95        65\n",
      "\n",
      "    accuracy                           0.94       104\n",
      "   macro avg       0.94      0.94      0.94       104\n",
      "weighted avg       0.94      0.94      0.94       104\n",
      "\n"
     ]
    }
   ],
   "source": [
    "confusion_matrix_learn(actual, dec_tree_predictions)"
   ]
  },
  {
   "cell_type": "markdown",
   "id": "26465315",
   "metadata": {},
   "source": [
    "## Charts and Analysis"
   ]
  },
  {
   "cell_type": "markdown",
   "id": "01ab54be",
   "metadata": {},
   "source": [
    "### Baseline Vs Processed Data"
   ]
  },
  {
   "cell_type": "code",
   "execution_count": 481,
   "id": "c0cd8aea",
   "metadata": {},
   "outputs": [],
   "source": [
    "## baselines for KNN, Bayes, SVM, and Dec tree from Baseline.ipynb\n",
    "baseline_acc = [0.9326923076923077, 0.8942307692307693, 0.625, 0.9807692307692307]\n",
    "PROCESSED_ACC\n",
    "\n",
    "for i in range(0, len(baseline_acc)):\n",
    "    baseline_acc[i] = float(format(baseline_acc[i], \".2f\"))\n",
    "for i in range(0, len(PROCESSED_ACC)):\n",
    "    PROCESSED_ACC[i] = float(format(PROCESSED_ACC[i], \".2f\"))"
   ]
  },
  {
   "cell_type": "code",
   "execution_count": 482,
   "id": "776bc665",
   "metadata": {},
   "outputs": [
    {
     "data": {
      "image/png": "[encoded data removed]",
      "text/plain": [
       "<Figure size 432x288 with 1 Axes>"
      ]
     },
     "metadata": {
      "needs_background": "light"
     },
     "output_type": "display_data"
    }
   ],
   "source": [
    "labels = [\"KNN\", \"Naive Bayes\", \"SVM(rbf)\", \"Decision Tree\"]\n",
    "x = np.arange(len(labels))  # the label locations\n",
    "width = 0.35  # the width of the bars\n",
    "\n",
    "fig, ax = plt.subplots()\n",
    "rects1 = ax.bar(x - width/2, baseline_acc, width, label='Baseline', hatch='|', color=\"white\", edgecolor=\"black\")\n",
    "rects2 = ax.bar(x + width/2, PROCESSED_ACC, width, label='Processed', hatch='*', color=\"white\", edgecolor=\"black\")\n",
    "\n",
    "# Add some text for labels, title and custom x-axis tick labels, etc.\n",
    "ax.set_ylabel('Accuracy Score')\n",
    "ax.set_title('Models')\n",
    "ax.set_xticks(x, labels)\n",
    "\n",
    "ax.bar_label(rects1,padding=1)\n",
    "ax.bar_label(rects2,padding=1)\n",
    "ax.legend(loc='center left', bbox_to_anchor=(1, 0.5), prop={'size': 12})\n",
    "fig.tight_layout()\n",
    "plt.savefig('acc_plot.tif')\n",
    "plt.show()"
   ]
  },
  {
   "cell_type": "markdown",
   "id": "3f0841c4",
   "metadata": {},
   "source": [
    "### Box and Whisker for Cross Validation of Processed Data"
   ]
  },
  {
   "cell_type": "code",
   "execution_count": 483,
   "id": "e7e682b2",
   "metadata": {},
   "outputs": [
    {
     "name": "stderr",
     "output_type": "stream",
     "text": [
      "<ipython-input-483-05b102286b11>:11: UserWarning: FixedFormatter should only be used together with FixedLocator\n",
      "  cd_ax.set_xticklabels([\"Weighted KNN\", \"Naive Bayes\", \"SVM(rbf)\", \"Decision Tree\"])\n"
     ]
    },
    {
     "data": {
      "image/png": "[encoded data removed]",
      "text/plain": [
       "<Figure size 432x288 with 1 Axes>"
      ]
     },
     "metadata": {
      "needs_background": "light"
     },
     "output_type": "display_data"
    }
   ],
   "source": [
    "import matplotlib.pyplot as plt\n",
    "import numpy as np\n",
    "\n",
    "cd_data = [scores_weighted, naive_scores, svm_scores, dec_scores]\n",
    " \n",
    "cd_fig = plt.figure()\n",
    "# Creating axes instance\n",
    "cd_ax = cd_fig.add_axes([0, 0, 1, 1])\n",
    "cd_ax.set_title(\"Cross Validation Plots(CV=8)\")\n",
    "cd_ax.set_ylabel('Accuracy')\n",
    "cd_ax.set_xticklabels([\"Weighted KNN\", \"Naive Bayes\", \"SVM(rbf)\", \"Decision Tree\"])\n",
    "\n",
    " \n",
    "# Creating plot\n",
    "bp = cd_ax.boxplot(cd_data, showmeans=True)\n",
    " \n",
    "# show plot\n",
    "# fig.tight_layout()\n",
    "# plt.savefig('boxplot.tif', bbox_inches=\"tight\")\n",
    "plt.show()"
   ]
  },
  {
   "cell_type": "code",
   "execution_count": 484,
   "id": "dca98577",
   "metadata": {},
   "outputs": [
    {
     "name": "stderr",
     "output_type": "stream",
     "text": [
      "<ipython-input-484-0c42b710b95f>:15: UserWarning: FixedFormatter should only be used together with FixedLocator\n",
      "  ax.set_xticklabels(labels)\n"
     ]
    },
    {
     "data": {
      "image/png": "[encoded data removed]",
      "text/plain": [
       "<Figure size 432x288 with 1 Axes>"
      ]
     },
     "metadata": {
      "needs_background": "light"
     },
     "output_type": "display_data"
    }
   ],
   "source": [
    "cross_mean_data = [scores_weighted.mean(), naive_scores.mean(), svm_scores.mean(), dec_scores.mean()]\n",
    "cross_mean_std = [scores_weighted.std(), naive_scores.std(), svm_scores.std(), dec_scores.std()]\n",
    "x_labels = [\"KNN\", \"Naive Bayes\", \"SVM(rbf)\", \"Decision Tree\"]\n",
    "# Build the plot\n",
    "fig, ax = plt.subplots()\n",
    "cross_bar = ax.bar(x_labels, cross_mean_data,\n",
    "       yerr=cross_mean_std,\n",
    "       align='center',\n",
    "       alpha=0.5,\n",
    "       ecolor='black',\n",
    "       color=\"white\",\n",
    "       edgecolor=\"black\",\n",
    "       capsize=10)\n",
    "ax.set_ylabel('Accuracy')\n",
    "ax.set_xticklabels(labels)\n",
    "ax.set_title('Cross Validation Error Bars (CV = 8)')\n",
    "ax.bar_label(cross_bar,padding=1)\n",
    "\n",
    "# Save the figure and show\n",
    "plt.tight_layout()\n",
    "plt.savefig('cverrorbar.tif', bbox_inches=\"tight\")\n",
    "plt.show()"
   ]
  },
  {
   "cell_type": "code",
   "execution_count": null,
   "id": "cf790047",
   "metadata": {},
   "outputs": [],
   "source": []
  }
 ],
 "metadata": {
  "kernelspec": {
   "display_name": "Python 3",
   "language": "python",
   "name": "python3"
  },
  "language_info": {
   "codemirror_mode": {
    "name": "ipython",
    "version": 3
   },
   "file_extension": ".py",
   "mimetype": "text/x-python",
   "name": "python",
   "nbconvert_exporter": "python",
   "pygments_lexer": "ipython3",
   "version": "3.9.7"
  }
 },
 "nbformat": 4,
 "nbformat_minor": 5
}
